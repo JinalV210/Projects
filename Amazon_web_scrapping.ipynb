{
 "cells": [
  {
   "cell_type": "code",
   "execution_count": 23,
   "id": "537e489e",
   "metadata": {},
   "outputs": [],
   "source": [
    "import openpyxl\n",
    "from bs4 import BeautifulSoup\n",
    "\n",
    "# Read the HTML file\n",
    "file_path = 'C:/Users/jinal/OneDrive/Desktop/JINAL/portforioprojects/Amazon_web_scrapping_project/Amazon.html'  # Replace with the actual path to your HTML file\n",
    "with open(file_path, 'r') as file:\n",
    "    html_content = file.read()\n",
    "\n",
    "# Parse the HTML with BeautifulSoup\n",
    "soup = BeautifulSoup(html_content, 'html.parser')\n",
    "#print(soup.prettify())\n",
    "\n",
    "# Find all divs with the specified class\n",
    "divs = soup.find_all(\"div\", {\"class\":\"a-section aok-relative s-image-fixed-height\"})\n",
    "\n",
    "# Create or open an Excel file\n",
    "excel_file_path = 'C:/Users/jinal/OneDrive/Desktop/JINAL/portforioprojects/Amazon_web_scrapping_project/output3.xlsx'\n",
    "workbook = openpyxl.Workbook()\n",
    "sheet = workbook.active\n",
    "\n",
    "# Write headers to the Excel file\n",
    "sheet.append(['Product_name', 'Product_Price', 'Product_Reviews'])\n",
    "\n",
    "# Iterate through each div and extract information\n",
    "for div in divs:\n",
    "    # Extract Product Name\n",
    "    product_name_tag = div.find(\"span\", {\"class\":\"a-size-medium a-color-base a-text-normal\"})\n",
    "    if product_name_tag:\n",
    "        product_name = product_name_tag.text.strip() \n",
    "    else:\n",
    "        product_name = \"\"\n",
    "\n",
    "    # Extract Product Price\n",
    "    product_price_tag = div.find(\"span\", {\"class\":\"a-price-whole\"})\n",
    "    #product_price = product_price_tag.text.strip() if product_price_tag else ''\n",
    "    if product_price_tag:\n",
    "        Product_Price = product_price_tag.text.strip() \n",
    "    else:\n",
    "        Product_Price = \"\"\n",
    "        \n",
    "        \n",
    "    # Extract Product Reviews\n",
    "    product_reviews_tag = div.find(\"span\", {\"class\":\"a-size-base\"})\n",
    "   # product_reviews = product_reviews_tag.text.strip() if product_reviews_tag else ''\n",
    "    if product_reviews_tag:\n",
    "        Product_Reviews = product_reviews_tag.text.strip() \n",
    "    else:\n",
    "        Product_Reviews = \"\"\n",
    "        \n",
    "        \n",
    "    # Write the data to the Excel file\n",
    "    sheet.append([product_name, Product_Price, Product_Reviews])\n",
    "\n",
    "\n",
    "# Save the Excel file\n",
    "workbook.save(excel_file_path)\n"
   ]
  },
  {
   "cell_type": "code",
   "execution_count": null,
   "id": "89102dae",
   "metadata": {},
   "outputs": [],
   "source": []
  },
  {
   "cell_type": "code",
   "execution_count": null,
   "id": "bca93b63",
   "metadata": {},
   "outputs": [],
   "source": []
  }
 ],
 "metadata": {
  "kernelspec": {
   "display_name": "Python 3 (ipykernel)",
   "language": "python",
   "name": "python3"
  },
  "language_info": {
   "codemirror_mode": {
    "name": "ipython",
    "version": 3
   },
   "file_extension": ".py",
   "mimetype": "text/x-python",
   "name": "python",
   "nbconvert_exporter": "python",
   "pygments_lexer": "ipython3",
   "version": "3.11.5"
  }
 },
 "nbformat": 4,
 "nbformat_minor": 5
}
