{
 "cells": [
  {
   "cell_type": "code",
   "execution_count": 29,
   "id": "cf23bd38",
   "metadata": {},
   "outputs": [],
   "source": [
    "import os , shutil\n",
    "path = r\"C:/Users/jinal/OneDrive/Pictures/Filesorter/\"\n",
    "file_name = os.listdir(path)\n",
    "#print(file_name)\n",
    "folder_name = ['jpg file', 'xlsx file', 'txt file', 'pdf file']\n",
    "for loop in range(0,4):\n",
    "    if not os.path.exists(path + folder_name[loop]):\n",
    "        os.makedirs(path + folder_name[loop])\n",
    "for file in file_name:\n",
    "    if \".jpg\" in file and not  os.path.exists(path + \"jpg file/\" + file):\n",
    "        shutil.move(path+file ,path + \"jpg file/\" + file)\n",
    "    elif \".xlsx\" in file and not  os.path.exists(path + \"xlsx file/\" + file):\n",
    "        shutil.move(path+file ,path + \"xlsx file/\" + file)\n",
    "    elif \".txt\" in file and not  os.path.exists(path + \"txt file/\" + file):\n",
    "        shutil.move(path+file ,path + \"txt file/\" + file)\n",
    "    elif \".pdf\" in file and not  os.path.exists(path + \"pdf file/\" + file):\n",
    "        shutil.move(path+file ,path + \"pdf file/\" + file)       \n",
    " \n",
    "    \n",
    "        \n",
    "        "
   ]
  },
  {
   "cell_type": "code",
   "execution_count": 26,
   "id": "33428bb7",
   "metadata": {},
   "outputs": [
    {
     "name": "stdout",
     "output_type": "stream",
     "text": [
      "['20161104_175431.jpg', 'Book1.xlsx', 'clg id card gmit.jpg', 'python_notes.txt', 'report.pdf', 'WhatsApp Image 2024-01-30 at 12.29.10_4d1f0ce4.jpg']\n"
     ]
    }
   ],
   "source": []
  },
  {
   "cell_type": "code",
   "execution_count": null,
   "id": "d1b57b08",
   "metadata": {},
   "outputs": [],
   "source": []
  }
 ],
 "metadata": {
  "kernelspec": {
   "display_name": "Python 3 (ipykernel)",
   "language": "python",
   "name": "python3"
  },
  "language_info": {
   "codemirror_mode": {
    "name": "ipython",
    "version": 3
   },
   "file_extension": ".py",
   "mimetype": "text/x-python",
   "name": "python",
   "nbconvert_exporter": "python",
   "pygments_lexer": "ipython3",
   "version": "3.11.5"
  }
 },
 "nbformat": 4,
 "nbformat_minor": 5
}
